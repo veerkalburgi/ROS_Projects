{
  "nbformat": 4,
  "nbformat_minor": 0,
  "metadata": {
    "colab": {
      "name": "IMU_reading.ipynb",
      "provenance": [],
      "collapsed_sections": [],
      "authorship_tag": "ABX9TyOKoJayeisAlD3oVvbAAGZU",
      "include_colab_link": true
    },
    "kernelspec": {
      "name": "python3",
      "display_name": "Python 3"
    }
  },
  "cells": [
    {
      "cell_type": "markdown",
      "metadata": {
        "id": "view-in-github",
        "colab_type": "text"
      },
      "source": [
        "<a href=\"https://colab.research.google.com/github/veerkalburgi/ROS_Projects/blob/main/Hands-On-ROS/DI_configure/DI-IMU/IMU_reading.ipynb\" target=\"_parent\"><img src=\"https://colab.research.google.com/assets/colab-badge.svg\" alt=\"Open In Colab\"/></a>"
      ]
    },
    {
      "cell_type": "markdown",
      "metadata": {
        "id": "2zB6xag0jWph"
      },
      "source": [
        "**Example program for reading a Dexter Industries IMU Sensor on a GoPiGo3 AD2 port**"
      ]
    },
    {
      "cell_type": "code",
      "metadata": {
        "id": "B4znbVKYjvUl"
      },
      "source": [
        "import time\n",
        "from di_sensors.inertial_measurement_unit import InertialMeasurementUnit\n"
      ],
      "execution_count": null,
      "outputs": []
    },
    {
      "cell_type": "markdown",
      "metadata": {
        "id": "jsquyVnskObJ"
      },
      "source": [
        "Create the object"
      ]
    },
    {
      "cell_type": "code",
      "metadata": {
        "id": "i4nq8UnqiepF"
      },
      "source": [
        "imu = InertialMeasurementUnit(bus = \"GPG3_AD1\")"
      ],
      "execution_count": null,
      "outputs": []
    },
    {
      "cell_type": "markdown",
      "metadata": {
        "id": "7V0w1jYNkofr"
      },
      "source": [
        "Read the magnetometer, gyroscope, accelerometer, euler, and temperature values"
      ]
    },
    {
      "cell_type": "code",
      "metadata": {
        "id": "9dMk-Fy7lElh"
      },
      "source": [
        "while True:\n",
        "  mag = imu.read_magnetometer()\n",
        "  gyro = imu.read_gyroscope()\n",
        "  accel = imu.read_accelerometer()\n",
        "  euler = imu.read_euler()\n",
        "  temp = imu.read_temperature()\n",
        "  imu_data = \"Magnetometer X: {:5.1f} Y: {:5.1f} Z: {:5.1f}\"\\\n",
        "            \"Gyroscope X: {:.1f} Y: {:.1f} Z: {:.1f}\"\\\n",
        "            \"Accelerometer X: {:.1f} Y: {:.1f} z: {:.1f}\"\\\n",
        "            \"Euler Heading: {:.1f} Roll: {:.1f} Pitch: {:.1f}\"\\\n",
        "            \"Temperature: {:.1f}C\".format(mag[0], mag[1], mag[2],\n",
        "                                          gyro[0], gyro[1], gyro[2],\n",
        "                                          accel[0], accel[1], accel[2],\n",
        "                                          euler[0], euler[1], euler[2],temp)\n",
        "            magnetometer = \"Magnetometer X: {:5.1f} Y: {:5.1f} Z: {:5.1f}\".format(mag[0], mag[1], mag[2])\n",
        "            gyroscope = \"Gyroscope X: {:.1f} Y: {:.1f} Z: {:.1f}\".format(gyro[0], gyro[1], gyro[2])\n",
        "            accelorometer = \"Accelerometer X: {:.1f} Y: {:.1f} Z: {:.1f}\".format(accel[0], accel[1], accel[2])\n",
        "            euler = \"Euler Heading: {:.1f} Roll: {:.1f} Pitch: {:.1f}\".format(euler[0], euler[1], euler[2])\n",
        "            temp_data = \"Temperature: {:.1f}C\".format(temp)\n",
        "\n",
        "            #This line prints all data in a single row \n",
        "            print(imu_data)\n",
        "            #These lines take on row for each sensor measurement\n",
        "            #print(magnetometer)\n",
        "            #print(gyroscope)\n",
        "            #print(accelorometer)\n",
        "            #print(euler)\n",
        "            #print(temp_data)\n",
        "            time.sleep(1)"
      ],
      "execution_count": null,
      "outputs": []
    }
  ]
}