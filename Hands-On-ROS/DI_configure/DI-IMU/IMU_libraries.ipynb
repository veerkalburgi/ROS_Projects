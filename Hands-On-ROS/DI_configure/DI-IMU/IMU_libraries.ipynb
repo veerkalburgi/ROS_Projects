{
  "nbformat": 4,
  "nbformat_minor": 0,
  "metadata": {
    "colab": {
      "name": "IMU_libraries.ipynb",
      "provenance": [],
      "collapsed_sections": [],
      "authorship_tag": "ABX9TyPvu7zSZm6zkKfgFoANGktV",
      "include_colab_link": true
    },
    "kernelspec": {
      "name": "python3",
      "display_name": "Python 3"
    }
  },
  "cells": [
    {
      "cell_type": "markdown",
      "metadata": {
        "id": "view-in-github",
        "colab_type": "text"
      },
      "source": [
        "<a href=\"https://colab.research.google.com/github/veerkalburgi/ROS_Projects/blob/main/Hands-On-ROS/DI_configure/DI-IMU/IMU_libraries.ipynb\" target=\"_parent\"><img src=\"https://colab.research.google.com/assets/colab-badge.svg\" alt=\"Open In Colab\"/></a>"
      ]
    },
    {
      "cell_type": "code",
      "metadata": {
        "id": "3LgEz2-KXzU0"
      },
      "source": [
        "#print all calculated variables in cell\n",
        "from IPython.core.interactiveshell import InteractiveShell InteractiveShell.ast_node_interactivity= \"all\"\n"
      ],
      "execution_count": null,
      "outputs": []
    },
    {
      "cell_type": "markdown",
      "metadata": {
        "id": "0S2rlI5FZdQu"
      },
      "source": [
        "**IMU sensor**\n",
        "\n",
        "**Library intertial_measurement_unit**\n",
        "\n",
        "This library does not accept *I2C*\n"
      ]
    },
    {
      "cell_type": "code",
      "metadata": {
        "id": "YkoSmK9LaDet"
      },
      "source": [
        "from di_sensors.inertial_measurement_unit import InertialMeasurementUnit"
      ],
      "execution_count": null,
      "outputs": []
    },
    {
      "cell_type": "code",
      "metadata": {
        "id": "s1mQTP6TagwW"
      },
      "source": [
        "imu = InertialMeasurementUnit(bus = \"GPG3_AD1\") # or GPG3_AD2 (whatever it is connected)"
      ],
      "execution_count": null,
      "outputs": []
    },
    {
      "cell_type": "code",
      "metadata": {
        "id": "qTZw8ujPbJAT"
      },
      "source": [
        "imu.read_euler()\n",
        "imu.read_magnetometer()\n",
        "imu.read_gyroscope()\n",
        "imu.read_accelerometer()\n",
        "imu.read_linear_acceleration()\n",
        "imu.read_gravity()\n",
        "imu.read_quaternion()\n",
        "imu.read_temperature()"
      ],
      "execution_count": null,
      "outputs": []
    },
    {
      "cell_type": "markdown",
      "metadata": {
        "id": "wfLaL51Wb06P"
      },
      "source": [
        "**Library**\n",
        "\n",
        "**easy_inertial_measurement_unit**"
      ]
    },
    {
      "cell_type": "code",
      "metadata": {
        "id": "wQZ17gIccFuz"
      },
      "source": [
        "from di_sensors.easy_inertial_measurement_unit import EasyIMUSensor"
      ],
      "execution_count": null,
      "outputs": []
    },
    {
      "cell_type": "markdown",
      "metadata": {
        "id": "1Y70dLA9cTtP"
      },
      "source": [
        "Run only one of the two lines below"
      ]
    },
    {
      "cell_type": "code",
      "metadata": {
        "id": "0EZIh7aTcZ05"
      },
      "source": [
        "imu = EasyIMUSensor(port = \"Ad1\") # or Ad2 (whatever it is connected)"
      ],
      "execution_count": null,
      "outputs": []
    },
    {
      "cell_type": "code",
      "metadata": {
        "id": "x6esidm4cn0c"
      },
      "source": [
        "imu = EasyIMUSensor(port = \"I2C\") # If connected to a I2C port"
      ],
      "execution_count": null,
      "outputs": []
    },
    {
      "cell_type": "markdown",
      "metadata": {
        "id": "UaD03Cn4c7hG"
      },
      "source": [
        "And check it works"
      ]
    },
    {
      "cell_type": "code",
      "metadata": {
        "id": "mVmL5U5WdA80"
      },
      "source": [
        "imu.read_temperature()"
      ],
      "execution_count": null,
      "outputs": []
    },
    {
      "cell_type": "markdown",
      "metadata": {
        "id": "ffl-R-PzdH7X"
      },
      "source": [
        "You can check all other methods"
      ]
    },
    {
      "cell_type": "code",
      "metadata": {
        "id": "LEFal3EudQNM"
      },
      "source": [
        "imu.read_euler()\n",
        "imu.read_magnetometer()\n",
        "imu.read_gyroscope()\n",
        "imu.read_accelerometer()\n",
        "imu.read_linear_acceleration()\n",
        "imu.read_gravity()\n",
        "imu.read_quaternion()"
      ],
      "execution_count": null,
      "outputs": []
    },
    {
      "cell_type": "markdown",
      "metadata": {
        "id": "ifZycB_kdz5T"
      },
      "source": [
        "**Easy methods (specifically added by this class)**"
      ]
    },
    {
      "cell_type": "code",
      "metadata": {
        "id": "hne86jDseCvl"
      },
      "source": [
        "imu.safe_calibration_status() # 0-3 (-1 means it cannot access the sensor)"
      ],
      "execution_count": null,
      "outputs": []
    },
    {
      "cell_type": "code",
      "metadata": {
        "id": "-w-EC1J8eTLr"
      },
      "source": [
        "imu.safe_calibrate() # The IMU calibrates automatically, \n",
        "# the purpose is to block a given script untl the sensor reports it has fully calibrated\n",
        "#IT REQUIRES TO RESTART THE KERNEL"
      ],
      "execution_count": null,
      "outputs": []
    },
    {
      "cell_type": "code",
      "metadata": {
        "id": "YEyLH_A9e6JY"
      },
      "source": [
        "imu.reconfig_bus() #If becomes unresponsive but it's still plugged into the board"
      ],
      "execution_count": null,
      "outputs": []
    },
    {
      "cell_type": "markdown",
      "metadata": {
        "id": "QNwta6f8fQp-"
      },
      "source": [
        "convert_heading(...) **takes in a heading in degrees and return the name of the corresponding heading**"
      ]
    },
    {
      "cell_type": "code",
      "metadata": {
        "id": "k95awfe-flvv"
      },
      "source": [
        "import time\n",
        "while True:\n",
        "  time.sleep(1)\n",
        "  print(\"{:.1f} {:s}\". format(imu.safe_north_point(), imu.convert_heading(imu.read_euler()[0])))"
      ],
      "execution_count": null,
      "outputs": []
    },
    {
      "cell_type": "markdown",
      "metadata": {
        "id": "R2h3DB4BgGtA"
      },
      "source": [
        "safe_read_magnetometer() **reads the magnetometer vlaues X, Y, Z in micro-Teslas**"
      ]
    },
    {
      "cell_type": "code",
      "metadata": {
        "id": "fUlojyyYgY-C"
      },
      "source": [
        "imu.read_magnetometer()\n",
        "imu.safe_read_magnetometer()"
      ],
      "execution_count": null,
      "outputs": []
    },
    {
      "cell_type": "markdown",
      "metadata": {
        "id": "4vHUI82lgrJF"
      },
      "source": [
        "safe_read_euler() reads the absolute orientation of euler angles in degrees of heading, roll and pitch"
      ]
    },
    {
      "cell_type": "code",
      "metadata": {
        "id": "YkkOJRmIg9Qo"
      },
      "source": [
        "imu.read_euler()\n",
        "imu.safe_read_euler()"
      ],
      "execution_count": null,
      "outputs": []
    }
  ]
}